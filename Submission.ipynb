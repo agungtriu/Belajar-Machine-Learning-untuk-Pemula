{
  "nbformat": 4,
  "nbformat_minor": 0,
  "metadata": {
    "colab": {
      "name": "Submission.ipynb",
      "provenance": [],
      "collapsed_sections": [],
      "toc_visible": true,
      "authorship_tag": "ABX9TyN8HX2xyQWvSXwLw9B2whsO",
      "include_colab_link": true
    },
    "kernelspec": {
      "name": "python3",
      "display_name": "Python 3"
    },
    "widgets": {
      "application/vnd.jupyter.widget-state+json": {
        "2890ff5c881f4eb285b92e3a9ac9c1f5": {
          "model_module": "@jupyter-widgets/controls",
          "model_name": "HBoxModel",
          "state": {
            "_view_name": "HBoxView",
            "_dom_classes": [],
            "_model_name": "HBoxModel",
            "_view_module": "@jupyter-widgets/controls",
            "_model_module_version": "1.5.0",
            "_view_count": null,
            "_view_module_version": "1.5.0",
            "box_style": "",
            "layout": "IPY_MODEL_fe8fd0b4a371400589e66a4f66923b20",
            "_model_module": "@jupyter-widgets/controls",
            "children": [
              "IPY_MODEL_3d5cb59acc164c5e95ba570c866ef315",
              "IPY_MODEL_a0431feebc424cd89b3ec8d558e5ae53"
            ]
          }
        },
        "fe8fd0b4a371400589e66a4f66923b20": {
          "model_module": "@jupyter-widgets/base",
          "model_name": "LayoutModel",
          "state": {
            "_view_name": "LayoutView",
            "grid_template_rows": null,
            "right": null,
            "justify_content": null,
            "_view_module": "@jupyter-widgets/base",
            "overflow": null,
            "_model_module_version": "1.2.0",
            "_view_count": null,
            "flex_flow": null,
            "width": null,
            "min_width": null,
            "border": null,
            "align_items": null,
            "bottom": null,
            "_model_module": "@jupyter-widgets/base",
            "top": null,
            "grid_column": null,
            "overflow_y": null,
            "overflow_x": null,
            "grid_auto_flow": null,
            "grid_area": null,
            "grid_template_columns": null,
            "flex": null,
            "_model_name": "LayoutModel",
            "justify_items": null,
            "grid_row": null,
            "max_height": null,
            "align_content": null,
            "visibility": null,
            "align_self": null,
            "height": null,
            "min_height": null,
            "padding": null,
            "grid_auto_rows": null,
            "grid_gap": null,
            "max_width": null,
            "order": null,
            "_view_module_version": "1.2.0",
            "grid_template_areas": null,
            "object_position": null,
            "object_fit": null,
            "grid_auto_columns": null,
            "margin": null,
            "display": null,
            "left": null
          }
        },
        "3d5cb59acc164c5e95ba570c866ef315": {
          "model_module": "@jupyter-widgets/controls",
          "model_name": "FloatProgressModel",
          "state": {
            "_view_name": "ProgressView",
            "style": "IPY_MODEL_240d08fc453c479bae24964c3eb66682",
            "_dom_classes": [],
            "description": "",
            "_model_name": "FloatProgressModel",
            "bar_style": "success",
            "max": 1,
            "_view_module": "@jupyter-widgets/controls",
            "_model_module_version": "1.5.0",
            "value": 1,
            "_view_count": null,
            "_view_module_version": "1.5.0",
            "orientation": "horizontal",
            "min": 0,
            "description_tooltip": null,
            "_model_module": "@jupyter-widgets/controls",
            "layout": "IPY_MODEL_0e3441a8271146f1848e1ccc5459f182"
          }
        },
        "a0431feebc424cd89b3ec8d558e5ae53": {
          "model_module": "@jupyter-widgets/controls",
          "model_name": "HTMLModel",
          "state": {
            "_view_name": "HTMLView",
            "style": "IPY_MODEL_8246675527d346398cb38b7af7a4d472",
            "_dom_classes": [],
            "description": "",
            "_model_name": "HTMLModel",
            "placeholder": "​",
            "_view_module": "@jupyter-widgets/controls",
            "_model_module_version": "1.5.0",
            "value": " 4376/? [00:25&lt;00:00, 174.09it/s]",
            "_view_count": null,
            "_view_module_version": "1.5.0",
            "description_tooltip": null,
            "_model_module": "@jupyter-widgets/controls",
            "layout": "IPY_MODEL_9cca05d94247499abc6ea888bf96bdfb"
          }
        },
        "240d08fc453c479bae24964c3eb66682": {
          "model_module": "@jupyter-widgets/controls",
          "model_name": "ProgressStyleModel",
          "state": {
            "_view_name": "StyleView",
            "_model_name": "ProgressStyleModel",
            "description_width": "initial",
            "_view_module": "@jupyter-widgets/base",
            "_model_module_version": "1.5.0",
            "_view_count": null,
            "_view_module_version": "1.2.0",
            "bar_color": null,
            "_model_module": "@jupyter-widgets/controls"
          }
        },
        "0e3441a8271146f1848e1ccc5459f182": {
          "model_module": "@jupyter-widgets/base",
          "model_name": "LayoutModel",
          "state": {
            "_view_name": "LayoutView",
            "grid_template_rows": null,
            "right": null,
            "justify_content": null,
            "_view_module": "@jupyter-widgets/base",
            "overflow": null,
            "_model_module_version": "1.2.0",
            "_view_count": null,
            "flex_flow": null,
            "width": null,
            "min_width": null,
            "border": null,
            "align_items": null,
            "bottom": null,
            "_model_module": "@jupyter-widgets/base",
            "top": null,
            "grid_column": null,
            "overflow_y": null,
            "overflow_x": null,
            "grid_auto_flow": null,
            "grid_area": null,
            "grid_template_columns": null,
            "flex": null,
            "_model_name": "LayoutModel",
            "justify_items": null,
            "grid_row": null,
            "max_height": null,
            "align_content": null,
            "visibility": null,
            "align_self": null,
            "height": null,
            "min_height": null,
            "padding": null,
            "grid_auto_rows": null,
            "grid_gap": null,
            "max_width": null,
            "order": null,
            "_view_module_version": "1.2.0",
            "grid_template_areas": null,
            "object_position": null,
            "object_fit": null,
            "grid_auto_columns": null,
            "margin": null,
            "display": null,
            "left": null
          }
        },
        "8246675527d346398cb38b7af7a4d472": {
          "model_module": "@jupyter-widgets/controls",
          "model_name": "DescriptionStyleModel",
          "state": {
            "_view_name": "StyleView",
            "_model_name": "DescriptionStyleModel",
            "description_width": "",
            "_view_module": "@jupyter-widgets/base",
            "_model_module_version": "1.5.0",
            "_view_count": null,
            "_view_module_version": "1.2.0",
            "_model_module": "@jupyter-widgets/controls"
          }
        },
        "9cca05d94247499abc6ea888bf96bdfb": {
          "model_module": "@jupyter-widgets/base",
          "model_name": "LayoutModel",
          "state": {
            "_view_name": "LayoutView",
            "grid_template_rows": null,
            "right": null,
            "justify_content": null,
            "_view_module": "@jupyter-widgets/base",
            "overflow": null,
            "_model_module_version": "1.2.0",
            "_view_count": null,
            "flex_flow": null,
            "width": null,
            "min_width": null,
            "border": null,
            "align_items": null,
            "bottom": null,
            "_model_module": "@jupyter-widgets/base",
            "top": null,
            "grid_column": null,
            "overflow_y": null,
            "overflow_x": null,
            "grid_auto_flow": null,
            "grid_area": null,
            "grid_template_columns": null,
            "flex": null,
            "_model_name": "LayoutModel",
            "justify_items": null,
            "grid_row": null,
            "max_height": null,
            "align_content": null,
            "visibility": null,
            "align_self": null,
            "height": null,
            "min_height": null,
            "padding": null,
            "grid_auto_rows": null,
            "grid_gap": null,
            "max_width": null,
            "order": null,
            "_view_module_version": "1.2.0",
            "grid_template_areas": null,
            "object_position": null,
            "object_fit": null,
            "grid_auto_columns": null,
            "margin": null,
            "display": null,
            "left": null
          }
        }
      }
    }
  },
  "cells": [
    {
      "cell_type": "markdown",
      "metadata": {
        "id": "view-in-github",
        "colab_type": "text"
      },
      "source": [
        "<a href=\"https://colab.research.google.com/github/agungtriu/Belajar-Machine-Learning-untuk-Pemula/blob/master/Submission.ipynb\" target=\"_parent\"><img src=\"https://colab.research.google.com/assets/colab-badge.svg\" alt=\"Open In Colab\"/></a>"
      ]
    },
    {
      "cell_type": "code",
      "metadata": {
        "id": "eZjHYsFF-Uwd",
        "colab_type": "code",
        "colab": {}
      },
      "source": [
        "import tensorflow as tf\n",
        "from tensorflow.keras.optimizers import RMSprop\n",
        "from tensorflow.keras.preprocessing.image import ImageDataGenerator"
      ],
      "execution_count": 1,
      "outputs": []
    },
    {
      "cell_type": "code",
      "metadata": {
        "id": "xBaXVFLTDmHV",
        "colab_type": "code",
        "colab": {
          "base_uri": "https://localhost:8080/",
          "height": 228
        },
        "outputId": "9ae254a4-b31e-409e-833d-4cfc10b764e5"
      },
      "source": [
        "!wget --no-check-certificate \\\n",
        "  https://dicodingacademy.blob.core.windows.net/picodiploma/ml_pemula_academy/rockpaperscissors.zip \\\n",
        "  -O /tmp/rockpaperscissors.zip"
      ],
      "execution_count": 2,
      "outputs": [
        {
          "output_type": "stream",
          "text": [
            "--2020-07-07 16:16:34--  https://dicodingacademy.blob.core.windows.net/picodiploma/ml_pemula_academy/rockpaperscissors.zip\n",
            "Resolving dicodingacademy.blob.core.windows.net (dicodingacademy.blob.core.windows.net)... 52.239.197.36\n",
            "Connecting to dicodingacademy.blob.core.windows.net (dicodingacademy.blob.core.windows.net)|52.239.197.36|:443... connected.\n",
            "HTTP request sent, awaiting response... 200 OK\n",
            "Length: 322873683 (308M) [application/zip]\n",
            "Saving to: ‘/tmp/rockpaperscissors.zip’\n",
            "\n",
            "/tmp/rockpapersciss 100%[===================>] 307.92M  5.86MB/s    in 48s     \n",
            "\n",
            "2020-07-07 16:17:23 (6.47 MB/s) - ‘/tmp/rockpaperscissors.zip’ saved [322873683/322873683]\n",
            "\n"
          ],
          "name": "stdout"
        }
      ]
    },
    {
      "cell_type": "code",
      "metadata": {
        "id": "awK6BJbj-fNy",
        "colab_type": "code",
        "colab": {}
      },
      "source": [
        "import zipfile,os\n",
        "local_zip = '/tmp/rockpaperscissors.zip'\n",
        "zip_ref = zipfile.ZipFile(local_zip, 'r')\n",
        "zip_ref.extractall('/tmp')\n",
        "zip_ref.close()\n",
        "\n",
        "base_dir = '/tmp/rockpaperscissors'\n",
        "\n",
        "file_name = []\n",
        "tag = []\n",
        "full_path = []\n",
        "for path, subdirs, files in os.walk(base_dir):\n",
        "    for name in files:\n",
        "        full_path.append(os.path.join(path, name)) \n",
        "        tag.append(path.split('/')[-1])        \n",
        "        file_name.append(name)"
      ],
      "execution_count": 23,
      "outputs": []
    },
    {
      "cell_type": "code",
      "metadata": {
        "id": "h1h0w7q3PDBm",
        "colab_type": "code",
        "colab": {}
      },
      "source": [
        "import pandas as pd"
      ],
      "execution_count": 24,
      "outputs": []
    },
    {
      "cell_type": "code",
      "metadata": {
        "id": "Y4aE5kn0PF1G",
        "colab_type": "code",
        "colab": {
          "base_uri": "https://localhost:8080/",
          "height": 139
        },
        "outputId": "419640a0-80c8-489e-8035-073b5fae6d25"
      },
      "source": [
        "df = pd.DataFrame({\"path\":full_path,'file_name':file_name,\"tag\":tag})\n",
        "df.groupby(['tag']).size()"
      ],
      "execution_count": 104,
      "outputs": [
        {
          "output_type": "execute_result",
          "data": {
            "text/plain": [
              "tag\n",
              "paper                1424\n",
              "rock                 1452\n",
              "rockpaperscissors       1\n",
              "rps-cv-images           1\n",
              "scissors             1500\n",
              "dtype: int64"
            ]
          },
          "metadata": {
            "tags": []
          },
          "execution_count": 104
        }
      ]
    },
    {
      "cell_type": "code",
      "metadata": {
        "id": "5Gt1mtnRPQZK",
        "colab_type": "code",
        "colab": {
          "base_uri": "https://localhost:8080/",
          "height": 104
        },
        "outputId": "ef2a0f72-2250-43d5-9613-2c8055342d7d"
      },
      "source": [
        "df = df.set_index(\"tag\")\n",
        "df = df.drop(\"rockpaperscissors\", axis=0)\n",
        "df = df.drop(\"rps-cv-images\", axis=0)\n",
        "df = df.reset_index()\n",
        "df.groupby(['tag']).size()"
      ],
      "execution_count": 105,
      "outputs": [
        {
          "output_type": "execute_result",
          "data": {
            "text/plain": [
              "tag\n",
              "paper       1424\n",
              "rock        1452\n",
              "scissors    1500\n",
              "dtype: int64"
            ]
          },
          "metadata": {
            "tags": []
          },
          "execution_count": 105
        }
      ]
    },
    {
      "cell_type": "code",
      "metadata": {
        "id": "pFSl88uuQdwM",
        "colab_type": "code",
        "colab": {
          "base_uri": "https://localhost:8080/",
          "height": 202
        },
        "outputId": "7da908cc-380d-462e-b5de-bee6ece8d58b"
      },
      "source": [
        "df.head()"
      ],
      "execution_count": 106,
      "outputs": [
        {
          "output_type": "execute_result",
          "data": {
            "text/html": [
              "<div>\n",
              "<style scoped>\n",
              "    .dataframe tbody tr th:only-of-type {\n",
              "        vertical-align: middle;\n",
              "    }\n",
              "\n",
              "    .dataframe tbody tr th {\n",
              "        vertical-align: top;\n",
              "    }\n",
              "\n",
              "    .dataframe thead th {\n",
              "        text-align: right;\n",
              "    }\n",
              "</style>\n",
              "<table border=\"1\" class=\"dataframe\">\n",
              "  <thead>\n",
              "    <tr style=\"text-align: right;\">\n",
              "      <th></th>\n",
              "      <th>tag</th>\n",
              "      <th>path</th>\n",
              "      <th>file_name</th>\n",
              "    </tr>\n",
              "  </thead>\n",
              "  <tbody>\n",
              "    <tr>\n",
              "      <th>0</th>\n",
              "      <td>rock</td>\n",
              "      <td>/tmp/rockpaperscissors/rock/DJUhF4lvtGZoaatl.png</td>\n",
              "      <td>DJUhF4lvtGZoaatl.png</td>\n",
              "    </tr>\n",
              "    <tr>\n",
              "      <th>1</th>\n",
              "      <td>rock</td>\n",
              "      <td>/tmp/rockpaperscissors/rock/GRUlZRON6TdcmAOe.png</td>\n",
              "      <td>GRUlZRON6TdcmAOe.png</td>\n",
              "    </tr>\n",
              "    <tr>\n",
              "      <th>2</th>\n",
              "      <td>rock</td>\n",
              "      <td>/tmp/rockpaperscissors/rock/d9UIt2WF1O9DYHPA.png</td>\n",
              "      <td>d9UIt2WF1O9DYHPA.png</td>\n",
              "    </tr>\n",
              "    <tr>\n",
              "      <th>3</th>\n",
              "      <td>rock</td>\n",
              "      <td>/tmp/rockpaperscissors/rock/lZcZsaDTx2vWJFun.png</td>\n",
              "      <td>lZcZsaDTx2vWJFun.png</td>\n",
              "    </tr>\n",
              "    <tr>\n",
              "      <th>4</th>\n",
              "      <td>rock</td>\n",
              "      <td>/tmp/rockpaperscissors/rock/T6biQxOCDlM5ad7k.png</td>\n",
              "      <td>T6biQxOCDlM5ad7k.png</td>\n",
              "    </tr>\n",
              "  </tbody>\n",
              "</table>\n",
              "</div>"
            ],
            "text/plain": [
              "    tag                                              path             file_name\n",
              "0  rock  /tmp/rockpaperscissors/rock/DJUhF4lvtGZoaatl.png  DJUhF4lvtGZoaatl.png\n",
              "1  rock  /tmp/rockpaperscissors/rock/GRUlZRON6TdcmAOe.png  GRUlZRON6TdcmAOe.png\n",
              "2  rock  /tmp/rockpaperscissors/rock/d9UIt2WF1O9DYHPA.png  d9UIt2WF1O9DYHPA.png\n",
              "3  rock  /tmp/rockpaperscissors/rock/lZcZsaDTx2vWJFun.png  lZcZsaDTx2vWJFun.png\n",
              "4  rock  /tmp/rockpaperscissors/rock/T6biQxOCDlM5ad7k.png  T6biQxOCDlM5ad7k.png"
            ]
          },
          "metadata": {
            "tags": []
          },
          "execution_count": 106
        }
      ]
    },
    {
      "cell_type": "code",
      "metadata": {
        "id": "_d6sK8x-QqIU",
        "colab_type": "code",
        "colab": {}
      },
      "source": [
        "from sklearn.model_selection import train_test_split"
      ],
      "execution_count": 107,
      "outputs": []
    },
    {
      "cell_type": "code",
      "metadata": {
        "id": "XeVHTu5HQyBD",
        "colab_type": "code",
        "colab": {}
      },
      "source": [
        "X = df['path']\n",
        "y = df['tag']"
      ],
      "execution_count": 108,
      "outputs": []
    },
    {
      "cell_type": "code",
      "metadata": {
        "id": "vtc1dQYIQzdB",
        "colab_type": "code",
        "colab": {}
      },
      "source": [
        "X_train, X_test, y_train, y_test = train_test_split(X, y, test_size=0.20, random_state=300)"
      ],
      "execution_count": 109,
      "outputs": []
    },
    {
      "cell_type": "code",
      "metadata": {
        "id": "Qe9Ny6aKUD8r",
        "colab_type": "code",
        "colab": {}
      },
      "source": [
        "X_test, X_val, y_test, y_val = train_test_split(X_test, y_test, test_size=0.5, random_state=100)"
      ],
      "execution_count": 110,
      "outputs": []
    },
    {
      "cell_type": "code",
      "metadata": {
        "id": "kb1JhmEbUOke",
        "colab_type": "code",
        "colab": {}
      },
      "source": [
        "df_tr = pd.DataFrame({'path':X_train, 'tag':y_train, 'set':'train'})\n",
        "df_te = pd.DataFrame({'path':X_test, 'tag':y_test, 'set':'test'})\n",
        "df_val = pd.DataFrame({'path':X_val, 'tag':y_val, 'set':'validation'})"
      ],
      "execution_count": 111,
      "outputs": []
    },
    {
      "cell_type": "code",
      "metadata": {
        "id": "sJn1bcGMbbSh",
        "colab_type": "code",
        "colab": {
          "base_uri": "https://localhost:8080/",
          "height": 418
        },
        "outputId": "edc5ac95-8ba2-4425-fe85-95076b9aa04a"
      },
      "source": [
        "df_all = df_tr.append([df_te,df_val]).reset_index(drop=1)\\\n",
        "\n",
        "print('===================================================== \\n')\n",
        "print(df_all.groupby(['set','tag']).size(),'\\n')\n",
        "\n",
        "print('===================================================== \\n')\n",
        "\n",
        "#cek sample datanya\n",
        "df_all.sample(3)"
      ],
      "execution_count": 112,
      "outputs": [
        {
          "output_type": "stream",
          "text": [
            "===================================================== \n",
            "\n",
            "set         tag     \n",
            "test        paper        147\n",
            "            rock         133\n",
            "            scissors     158\n",
            "train       paper       1124\n",
            "            rock        1168\n",
            "            scissors    1208\n",
            "validation  paper        153\n",
            "            rock         151\n",
            "            scissors     134\n",
            "dtype: int64 \n",
            "\n",
            "===================================================== \n",
            "\n"
          ],
          "name": "stdout"
        },
        {
          "output_type": "execute_result",
          "data": {
            "text/html": [
              "<div>\n",
              "<style scoped>\n",
              "    .dataframe tbody tr th:only-of-type {\n",
              "        vertical-align: middle;\n",
              "    }\n",
              "\n",
              "    .dataframe tbody tr th {\n",
              "        vertical-align: top;\n",
              "    }\n",
              "\n",
              "    .dataframe thead th {\n",
              "        text-align: right;\n",
              "    }\n",
              "</style>\n",
              "<table border=\"1\" class=\"dataframe\">\n",
              "  <thead>\n",
              "    <tr style=\"text-align: right;\">\n",
              "      <th></th>\n",
              "      <th>path</th>\n",
              "      <th>tag</th>\n",
              "      <th>set</th>\n",
              "    </tr>\n",
              "  </thead>\n",
              "  <tbody>\n",
              "    <tr>\n",
              "      <th>841</th>\n",
              "      <td>/tmp/rockpaperscissors/rps-cv-images/rock/weNe...</td>\n",
              "      <td>rock</td>\n",
              "      <td>train</td>\n",
              "    </tr>\n",
              "    <tr>\n",
              "      <th>487</th>\n",
              "      <td>/tmp/rockpaperscissors/rps-cv-images/scissors/...</td>\n",
              "      <td>scissors</td>\n",
              "      <td>train</td>\n",
              "    </tr>\n",
              "    <tr>\n",
              "      <th>4198</th>\n",
              "      <td>/tmp/rockpaperscissors/rps-cv-images/paper/B9P...</td>\n",
              "      <td>paper</td>\n",
              "      <td>validation</td>\n",
              "    </tr>\n",
              "  </tbody>\n",
              "</table>\n",
              "</div>"
            ],
            "text/plain": [
              "                                                   path       tag         set\n",
              "841   /tmp/rockpaperscissors/rps-cv-images/rock/weNe...      rock       train\n",
              "487   /tmp/rockpaperscissors/rps-cv-images/scissors/...  scissors       train\n",
              "4198  /tmp/rockpaperscissors/rps-cv-images/paper/B9P...     paper  validation"
            ]
          },
          "metadata": {
            "tags": []
          },
          "execution_count": 112
        }
      ]
    },
    {
      "cell_type": "code",
      "metadata": {
        "id": "r0H3m1UIbfUM",
        "colab_type": "code",
        "colab": {}
      },
      "source": [
        "import shutil\n",
        "from tqdm.notebook import tqdm as tq"
      ],
      "execution_count": 113,
      "outputs": []
    },
    {
      "cell_type": "code",
      "metadata": {
        "id": "xfOYXNuSbon1",
        "colab_type": "code",
        "colab": {}
      },
      "source": [
        "datasource_path = \"/tmp/rockpaperscissors/\"\n",
        "dataset_path = \"/tmp/dataset_rockpaperscissors/\""
      ],
      "execution_count": 114,
      "outputs": []
    },
    {
      "cell_type": "code",
      "metadata": {
        "id": "gRo6DVIicE_H",
        "colab_type": "code",
        "colab": {
          "base_uri": "https://localhost:8080/",
          "height": 67,
          "referenced_widgets": [
            "2890ff5c881f4eb285b92e3a9ac9c1f5",
            "fe8fd0b4a371400589e66a4f66923b20",
            "3d5cb59acc164c5e95ba570c866ef315",
            "a0431feebc424cd89b3ec8d558e5ae53",
            "240d08fc453c479bae24964c3eb66682",
            "0e3441a8271146f1848e1ccc5459f182",
            "8246675527d346398cb38b7af7a4d472",
            "9cca05d94247499abc6ea888bf96bdfb"
          ]
        },
        "outputId": "5f070c28-0bdf-46e8-9321-15e092d179fa"
      },
      "source": [
        "for index, row in tq(df_all.iterrows()):\n",
        "    \n",
        "    #detect filepath\n",
        "    file_path = row['path']\n",
        "    if os.path.exists(file_path) == False:\n",
        "            file_path = os.path.join(datasource_path,row['tag'],row['image'].split('.')[0])            \n",
        "    \n",
        "    #make folder destination dirs\n",
        "    if os.path.exists(os.path.join(dataset_path,row['set'],row['tag'])) == False:\n",
        "        os.makedirs(os.path.join(dataset_path,row['set'],row['tag']))\n",
        "    \n",
        "    #define file dest\n",
        "    destination_file_name = file_path.split('/')[-1]\n",
        "    file_dest = os.path.join(dataset_path,row['set'],row['tag'],destination_file_name)\n",
        "    \n",
        "    #copy file from source to dest\n",
        "    if os.path.exists(file_dest) == False:\n",
        "        shutil.copy2(file_path,file_dest)"
      ],
      "execution_count": 115,
      "outputs": [
        {
          "output_type": "display_data",
          "data": {
            "application/vnd.jupyter.widget-view+json": {
              "model_id": "2890ff5c881f4eb285b92e3a9ac9c1f5",
              "version_minor": 0,
              "version_major": 2
            },
            "text/plain": [
              "HBox(children=(FloatProgress(value=1.0, bar_style='info', max=1.0), HTML(value='')))"
            ]
          },
          "metadata": {
            "tags": []
          }
        },
        {
          "output_type": "stream",
          "text": [
            "\n"
          ],
          "name": "stdout"
        }
      ]
    },
    {
      "cell_type": "code",
      "metadata": {
        "id": "gD2JU3Wqcl87",
        "colab_type": "code",
        "colab": {}
      },
      "source": [
        "base_dir = '/tmp/dataset_rockpaperscissors'\n",
        "train_dir = os.path.join(base_dir, 'train')\n",
        "validation_dir = os.path.join(base_dir, 'validation')"
      ],
      "execution_count": 116,
      "outputs": []
    },
    {
      "cell_type": "code",
      "metadata": {
        "id": "uUHA9cPqdALW",
        "colab_type": "code",
        "colab": {
          "base_uri": "https://localhost:8080/",
          "height": 35
        },
        "outputId": "510ced73-7b3a-447d-fa2f-2697082978bc"
      },
      "source": [
        "os.listdir('/tmp/dataset_rockpaperscissors/train')"
      ],
      "execution_count": 117,
      "outputs": [
        {
          "output_type": "execute_result",
          "data": {
            "text/plain": [
              "['rock', 'scissors', 'paper']"
            ]
          },
          "metadata": {
            "tags": []
          },
          "execution_count": 117
        }
      ]
    },
    {
      "cell_type": "code",
      "metadata": {
        "id": "17JbQ-QsdH7p",
        "colab_type": "code",
        "colab": {
          "base_uri": "https://localhost:8080/",
          "height": 35
        },
        "outputId": "48260690-8920-4683-caea-753bec44f979"
      },
      "source": [
        "os.listdir('/tmp/dataset_rockpaperscissors/validation')"
      ],
      "execution_count": 118,
      "outputs": [
        {
          "output_type": "execute_result",
          "data": {
            "text/plain": [
              "['rock', 'scissors', 'paper']"
            ]
          },
          "metadata": {
            "tags": []
          },
          "execution_count": 118
        }
      ]
    },
    {
      "cell_type": "code",
      "metadata": {
        "id": "sooWm0oCdMbh",
        "colab_type": "code",
        "colab": {}
      },
      "source": [
        "train_rock_dir = os.path.join(train_dir, 'rock')\n",
        "train_scissors_dir = os.path.join(train_dir, 'scissors')\n",
        "train_paper_dir = os.path.join(train_dir, 'paper')\n",
        "\n",
        "\n",
        "validation_rock_dir = os.path.join(validation_dir, 'rock')\n",
        "validation_scissors_dir = os.path.join(validation_dir, 'scissors')\n",
        "validation_paper_dir = os.path.join(validation_dir, 'paper')"
      ],
      "execution_count": 119,
      "outputs": []
    },
    {
      "cell_type": "code",
      "metadata": {
        "id": "A0rYVmewdi7B",
        "colab_type": "code",
        "colab": {}
      },
      "source": [
        "train_datagen = ImageDataGenerator(\n",
        "                    rescale=1./255,\n",
        "                    rotation_range=20,\n",
        "                    horizontal_flip=True,\n",
        "                    shear_range = 0.2,\n",
        "                    fill_mode = 'nearest')\n",
        "\n",
        "test_datagen = ImageDataGenerator(\n",
        "                    rescale=1./255,\n",
        "                    rotation_range=20,\n",
        "                    horizontal_flip=True,\n",
        "                    shear_range = 0.2,\n",
        "                    fill_mode = 'nearest')"
      ],
      "execution_count": 120,
      "outputs": []
    },
    {
      "cell_type": "code",
      "metadata": {
        "id": "UGo19olZdn6D",
        "colab_type": "code",
        "colab": {
          "base_uri": "https://localhost:8080/",
          "height": 52
        },
        "outputId": "b32c5129-2e67-469e-93e7-b024c7b41363"
      },
      "source": [
        "train_generator = train_datagen.flow_from_directory(\n",
        "        train_dir,\n",
        "        target_size=(150, 150),\n",
        "        batch_size=4,\n",
        "        class_mode='categorical')\n",
        "\n",
        "validation_generator = test_datagen.flow_from_directory(\n",
        "        validation_dir,\n",
        "        target_size=(150, 150),\n",
        "        batch_size=4,\n",
        "        class_mode='categorical')"
      ],
      "execution_count": 121,
      "outputs": [
        {
          "output_type": "stream",
          "text": [
            "Found 2101 images belonging to 3 classes.\n",
            "Found 414 images belonging to 3 classes.\n"
          ],
          "name": "stdout"
        }
      ]
    },
    {
      "cell_type": "code",
      "metadata": {
        "id": "Oz-3_1wieTpn",
        "colab_type": "code",
        "colab": {}
      },
      "source": [
        "model = tf.keras.models.Sequential([\n",
        "    tf.keras.layers.Conv2D(32, (3,3), activation='relu', input_shape=(150, 150, 3)),\n",
        "    tf.keras.layers.MaxPooling2D(2, 2),\n",
        "    tf.keras.layers.Conv2D(64, (3,3), activation='relu'),\n",
        "    tf.keras.layers.MaxPooling2D(2,2),\n",
        "    tf.keras.layers.Conv2D(128, (3,3), activation='relu'),\n",
        "    tf.keras.layers.MaxPooling2D(2,2),\n",
        "    tf.keras.layers.Conv2D(128, (3,3), activation='relu'),\n",
        "    tf.keras.layers.MaxPooling2D(2,2),\n",
        "    tf.keras.layers.Flatten(),\n",
        "    tf.keras.layers.Dense(512, activation='relu'),\n",
        "    tf.keras.layers.Dense(1, activation='sigmoid')\n",
        "])"
      ],
      "execution_count": 122,
      "outputs": []
    },
    {
      "cell_type": "code",
      "metadata": {
        "id": "hyXVe1GHedsY",
        "colab_type": "code",
        "colab": {}
      },
      "source": [
        "model.compile(loss=tf.keras.losses.categorical_crossentropy,\n",
        "              optimizer=tf.optimizers.Adam(),\n",
        "              metrics=['accuracy'])"
      ],
      "execution_count": 123,
      "outputs": []
    },
    {
      "cell_type": "code",
      "metadata": {
        "id": "_liq8UsqemdB",
        "colab_type": "code",
        "colab": {
          "base_uri": "https://localhost:8080/",
          "height": 728
        },
        "outputId": "e90ba497-ed97-4431-80bb-3fd254b43846"
      },
      "source": [
        "model.fit(\n",
        "      train_generator,\n",
        "      steps_per_epoch=25,\n",
        "      epochs=20,\n",
        "      validation_data=validation_generator,\n",
        "      validation_steps=5,\n",
        "      verbose=2)"
      ],
      "execution_count": 124,
      "outputs": [
        {
          "output_type": "stream",
          "text": [
            "Epoch 1/20\n",
            "25/25 - 6s - loss: 1.1921e-07 - accuracy: 0.6667 - val_loss: 1.1921e-07 - val_accuracy: 0.6667\n",
            "Epoch 2/20\n",
            "25/25 - 6s - loss: 1.1921e-07 - accuracy: 0.6667 - val_loss: 1.1921e-07 - val_accuracy: 0.6667\n",
            "Epoch 3/20\n",
            "25/25 - 6s - loss: 1.1921e-07 - accuracy: 0.6667 - val_loss: 1.1921e-07 - val_accuracy: 0.6667\n",
            "Epoch 4/20\n",
            "25/25 - 6s - loss: 1.1921e-07 - accuracy: 0.6667 - val_loss: 1.1921e-07 - val_accuracy: 0.6667\n",
            "Epoch 5/20\n",
            "25/25 - 6s - loss: 1.1921e-07 - accuracy: 0.6667 - val_loss: 1.1921e-07 - val_accuracy: 0.6667\n",
            "Epoch 6/20\n",
            "25/25 - 6s - loss: 1.1921e-07 - accuracy: 0.6667 - val_loss: 1.1921e-07 - val_accuracy: 0.6667\n",
            "Epoch 7/20\n",
            "25/25 - 6s - loss: 1.1921e-07 - accuracy: 0.6667 - val_loss: 1.1921e-07 - val_accuracy: 0.6667\n",
            "Epoch 8/20\n",
            "25/25 - 6s - loss: 1.1921e-07 - accuracy: 0.6667 - val_loss: 1.1921e-07 - val_accuracy: 0.6667\n",
            "Epoch 9/20\n",
            "25/25 - 7s - loss: 1.1921e-07 - accuracy: 0.6667 - val_loss: 1.1921e-07 - val_accuracy: 0.6667\n",
            "Epoch 10/20\n",
            "25/25 - 6s - loss: 1.1921e-07 - accuracy: 0.6667 - val_loss: 1.1921e-07 - val_accuracy: 0.6667\n",
            "Epoch 11/20\n",
            "25/25 - 6s - loss: 1.1921e-07 - accuracy: 0.6667 - val_loss: 1.1921e-07 - val_accuracy: 0.6667\n",
            "Epoch 12/20\n",
            "25/25 - 6s - loss: 1.1921e-07 - accuracy: 0.6667 - val_loss: 1.1921e-07 - val_accuracy: 0.6667\n",
            "Epoch 13/20\n",
            "25/25 - 6s - loss: 1.1921e-07 - accuracy: 0.6667 - val_loss: 1.1921e-07 - val_accuracy: 0.6667\n",
            "Epoch 14/20\n",
            "25/25 - 6s - loss: 1.1921e-07 - accuracy: 0.6667 - val_loss: 1.1921e-07 - val_accuracy: 0.6667\n",
            "Epoch 15/20\n",
            "25/25 - 6s - loss: 1.1921e-07 - accuracy: 0.6667 - val_loss: 1.1921e-07 - val_accuracy: 0.6667\n",
            "Epoch 16/20\n",
            "25/25 - 6s - loss: 1.1921e-07 - accuracy: 0.6667 - val_loss: 1.1921e-07 - val_accuracy: 0.6667\n",
            "Epoch 17/20\n",
            "25/25 - 6s - loss: 1.1921e-07 - accuracy: 0.6667 - val_loss: 1.1921e-07 - val_accuracy: 0.6667\n",
            "Epoch 18/20\n",
            "25/25 - 6s - loss: 1.1921e-07 - accuracy: 0.6667 - val_loss: 1.1921e-07 - val_accuracy: 0.6667\n",
            "Epoch 19/20\n",
            "25/25 - 6s - loss: 1.1921e-07 - accuracy: 0.6667 - val_loss: 1.1921e-07 - val_accuracy: 0.6667\n",
            "Epoch 20/20\n",
            "25/25 - 6s - loss: 1.1921e-07 - accuracy: 0.6667 - val_loss: 1.1921e-07 - val_accuracy: 0.6667\n"
          ],
          "name": "stdout"
        },
        {
          "output_type": "execute_result",
          "data": {
            "text/plain": [
              "<tensorflow.python.keras.callbacks.History at 0x7feea4f32f28>"
            ]
          },
          "metadata": {
            "tags": []
          },
          "execution_count": 124
        }
      ]
    },
    {
      "cell_type": "code",
      "metadata": {
        "id": "2bGNtiHspUXn",
        "colab_type": "code",
        "colab": {}
      },
      "source": [
        "test_dir = os.path.join(base_dir, 'test')"
      ],
      "execution_count": 126,
      "outputs": []
    },
    {
      "cell_type": "code",
      "metadata": {
        "id": "6uvfyyP6pLjT",
        "colab_type": "code",
        "colab": {
          "base_uri": "https://localhost:8080/",
          "height": 35
        },
        "outputId": "ab8585d8-4b0b-44da-b552-5b87ca870a86"
      },
      "source": [
        "test_generator = test_datagen.flow_from_directory(\n",
        "        test_dir,\n",
        "        target_size=(150, 150),\n",
        "        batch_size=4,\n",
        "        class_mode='categorical')"
      ],
      "execution_count": 127,
      "outputs": [
        {
          "output_type": "stream",
          "text": [
            "Found 417 images belonging to 3 classes.\n"
          ],
          "name": "stdout"
        }
      ]
    },
    {
      "cell_type": "code",
      "metadata": {
        "id": "yDfHQd9ZonXK",
        "colab_type": "code",
        "colab": {
          "base_uri": "https://localhost:8080/",
          "height": 35
        },
        "outputId": "30c3a8ea-c9b7-4cf4-825c-339fefc23ce4"
      },
      "source": [
        "scores = model.evaluate(test_generator, verbose=1)"
      ],
      "execution_count": 130,
      "outputs": [
        {
          "output_type": "stream",
          "text": [
            "105/105 [==============================] - 8s 80ms/step - loss: 1.1921e-07 - accuracy: 0.6667\n"
          ],
          "name": "stdout"
        }
      ]
    }
  ]
}